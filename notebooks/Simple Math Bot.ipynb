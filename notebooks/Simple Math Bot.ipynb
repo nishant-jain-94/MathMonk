{
 "cells": [
  {
   "cell_type": "code",
   "execution_count": 31,
   "metadata": {
    "collapsed": false,
    "deletable": true,
    "editable": true
   },
   "outputs": [],
   "source": [
    "import nltk\n",
    "import os\n",
    "import re\n",
    "import IPython\n",
    "from nltk.tag import SequentialBackoffTagger\n",
    "from nltk.draw import TreeWidget\n",
    "from nltk.draw.util import CanvasFrame\n",
    "from nltk import word_tokenize, sent_tokenize"
   ]
  },
  {
   "cell_type": "code",
   "execution_count": 11,
   "metadata": {
    "collapsed": true,
    "deletable": true,
    "editable": true
   },
   "outputs": [],
   "source": [
    "def ie_process(sentence):\n",
    "    \"\"\" Tokenizes and Tags each sentence.\n",
    "    \n",
    "    sentence: inputs a sentence.\n",
    "    \n",
    "    Returns: a tagged sentence.\n",
    "    \"\"\"\n",
    "    tokenized_sentence = re.findall(r\"(\\b\\w*[\\.]?\\w+\\b|[\\(\\)\\+\\*\\-\\/])\", sentence)\n",
    "    tagged_sentence = (tokenized_sentence)\n",
    "    return tagged_sentence"
   ]
  },
  {
   "cell_type": "code",
   "execution_count": 12,
   "metadata": {
    "collapsed": false,
    "deletable": true,
    "editable": true
   },
   "outputs": [],
   "source": [
    "def jupyter_draw_nltk_tree(tree):\n",
    "    cf = CanvasFrame()\n",
    "    tc = TreeWidget(cf.canvas(), tree)\n",
    "    tc['node_font'] = 'arial 13 bold'\n",
    "    tc['leaf_font'] = 'arial 14'\n",
    "    tc['node_color'] = '#005990'\n",
    "    tc['leaf_color'] = '#3F8F57'\n",
    "    tc['line_color'] = '#175252'\n",
    "    cf.add_widget(tc, 10, 10)\n",
    "    cf.print_to_file('tmp_tree_output.ps')\n",
    "    cf.destroy()\n",
    "    os.system('convert tmp_tree_output.ps tmp_tree_output.png')\n",
    "    IPython.core.display.display(IPython.core.display.Image(filename='tmp_tree_output.png'))\n",
    "    os.system('rm tmp_tree_output.ps tmp_tree_output.png')"
   ]
  },
  {
   "cell_type": "code",
   "execution_count": 117,
   "metadata": {
    "collapsed": true,
    "deletable": true,
    "editable": true
   },
   "outputs": [],
   "source": [
    "def math_chunk(tagged_sentence):\n",
    "    \"\"\"Breaks a sentence into a chunk of Operators, Operands and Mathematical Expressions\n",
    "    \n",
    "    tagged_sentence: inputs pos tagged sentence\n",
    "    \n",
    "    Returns: a sentence chunked into a set of Operators, Operands and Mathematical Expressions\n",
    "    \"\"\"\n",
    "    # TODO: Grammar can be written better with Cascaded Chunkers     \n",
    "    grammar = r\"\"\"\n",
    "    ME:       {<CD><OPERATOR|OPERATIVE_ADJECTIVE><CD>}\n",
    "              {<ME><OPERATOR|OPERATIVE_ADJECTIVE><CD>}\n",
    "              {<CD><OPERATOR|OPERATIVE_ADJECTIVE><ME>}\n",
    "              {<OPERATOR|OPERATIVE_ADJECTIVE><ME><CD>}    \n",
    "    \"\"\"\n",
    "    cp = nltk.RegexpParser(grammar, loop=3, trace=1)\n",
    "    result = cp.parse(tagged_sentence)\n",
    "    print(result)\n",
    "    jupyter_draw_nltk_tree(result)\n",
    "    return result"
   ]
  },
  {
   "cell_type": "markdown",
   "metadata": {
    "deletable": true,
    "editable": true
   },
   "source": [
    "## Analyzing parse tree of chunks"
   ]
  },
  {
   "cell_type": "code",
   "execution_count": 105,
   "metadata": {
    "collapsed": false,
    "deletable": true,
    "editable": true
   },
   "outputs": [
    {
     "name": "stdout",
     "output_type": "stream",
     "text": [
      "(S\n",
      "  What/WP\n",
      "  is/VBZ\n",
      "  2/CD\n",
      "  +/NN\n",
      "  344/CD\n",
      "  +/NN\n",
      "  34/CD\n",
      "  added/OPERATIVE_ADJECTIVE\n",
      "  by/IN\n",
      "  2/CD)\n"
     ]
    },
    {
     "data": {
      "image/png": "[encoded data removed]",
      "text/plain": [
       "<IPython.core.display.Image object>"
      ]
     },
     "metadata": {},
     "output_type": "display_data"
    }
   ],
   "source": [
    "chunked_result = math_chunk(ie_process(\"What is 2+344+34 added by 2?\"))"
   ]
  },
  {
   "cell_type": "code",
   "execution_count": 106,
   "metadata": {
    "collapsed": false,
    "deletable": true,
    "editable": true
   },
   "outputs": [
    {
     "name": "stdout",
     "output_type": "stream",
     "text": [
      "(S What/WP is/VBZ 2/CD +/NN 2/CD +/NN 4/CD mutilplied/VBN by/IN 4/CD)\n"
     ]
    },
    {
     "data": {
      "image/png": "[encoded data removed]",
      "text/plain": [
       "<IPython.core.display.Image object>"
      ]
     },
     "metadata": {},
     "output_type": "display_data"
    },
    {
     "ename": "FileNotFoundError",
     "evalue": "[Errno 2] No such file or directory: '/tmp/tmpy7_5whrf.png'",
     "output_type": "error",
     "traceback": [
      "\u001b[0;31m---------------------------------------------------------------------------\u001b[0m",
      "\u001b[0;31mFileNotFoundError\u001b[0m                         Traceback (most recent call last)",
      "\u001b[0;32m/home/nishant/venvs/mathmonk/lib/python3.5/site-packages/IPython/core/formatters.py\u001b[0m in \u001b[0;36m__call__\u001b[0;34m(self, obj)\u001b[0m\n\u001b[1;32m    309\u001b[0m             \u001b[0mmethod\u001b[0m \u001b[0;34m=\u001b[0m \u001b[0mget_real_method\u001b[0m\u001b[0;34m(\u001b[0m\u001b[0mobj\u001b[0m\u001b[0;34m,\u001b[0m \u001b[0mself\u001b[0m\u001b[0;34m.\u001b[0m\u001b[0mprint_method\u001b[0m\u001b[0;34m)\u001b[0m\u001b[0;34m\u001b[0m\u001b[0m\n\u001b[1;32m    310\u001b[0m             \u001b[0;32mif\u001b[0m \u001b[0mmethod\u001b[0m \u001b[0;32mis\u001b[0m \u001b[0;32mnot\u001b[0m \u001b[0;32mNone\u001b[0m\u001b[0;34m:\u001b[0m\u001b[0;34m\u001b[0m\u001b[0m\n\u001b[0;32m--> 311\u001b[0;31m                 \u001b[0;32mreturn\u001b[0m \u001b[0mmethod\u001b[0m\u001b[0;34m(\u001b[0m\u001b[0;34m)\u001b[0m\u001b[0;34m\u001b[0m\u001b[0m\n\u001b[0m\u001b[1;32m    312\u001b[0m             \u001b[0;32mreturn\u001b[0m \u001b[0;32mNone\u001b[0m\u001b[0;34m\u001b[0m\u001b[0m\n\u001b[1;32m    313\u001b[0m         \u001b[0;32melse\u001b[0m\u001b[0;34m:\u001b[0m\u001b[0;34m\u001b[0m\u001b[0m\n",
      "\u001b[0;32m/home/nishant/venvs/mathmonk/lib/python3.5/site-packages/nltk/tree.py\u001b[0m in \u001b[0;36m_repr_png_\u001b[0;34m(self)\u001b[0m\n\u001b[1;32m    727\u001b[0m                             \u001b[0;34m'-q -dEPSCrop -sDEVICE=png16m -r90 -dTextAlphaBits=4 -dGraphicsAlphaBits=4 -dSAFER -dBATCH -dNOPAUSE -sOutputFile={0:} {1:}'\u001b[0m\u001b[0;34m\u001b[0m\u001b[0m\n\u001b[1;32m    728\u001b[0m                             .format(out_path, in_path).split())\n\u001b[0;32m--> 729\u001b[0;31m             \u001b[0;32mwith\u001b[0m \u001b[0mopen\u001b[0m\u001b[0;34m(\u001b[0m\u001b[0mout_path\u001b[0m\u001b[0;34m,\u001b[0m \u001b[0;34m'rb'\u001b[0m\u001b[0;34m)\u001b[0m \u001b[0;32mas\u001b[0m \u001b[0msr\u001b[0m\u001b[0;34m:\u001b[0m\u001b[0;34m\u001b[0m\u001b[0m\n\u001b[0m\u001b[1;32m    730\u001b[0m                 \u001b[0mres\u001b[0m \u001b[0;34m=\u001b[0m \u001b[0msr\u001b[0m\u001b[0;34m.\u001b[0m\u001b[0mread\u001b[0m\u001b[0;34m(\u001b[0m\u001b[0;34m)\u001b[0m\u001b[0;34m\u001b[0m\u001b[0m\n\u001b[1;32m    731\u001b[0m             \u001b[0mos\u001b[0m\u001b[0;34m.\u001b[0m\u001b[0mremove\u001b[0m\u001b[0;34m(\u001b[0m\u001b[0min_path\u001b[0m\u001b[0;34m)\u001b[0m\u001b[0;34m\u001b[0m\u001b[0m\n",
      "\u001b[0;31mFileNotFoundError\u001b[0m: [Errno 2] No such file or directory: '/tmp/tmpy7_5whrf.png'"
     ]
    },
    {
     "data": {
      "text/plain": [
       "Tree('S', [('What', 'WP'), ('is', 'VBZ'), ('2', 'CD'), ('+', 'NN'), ('2', 'CD'), ('+', 'NN'), ('4', 'CD'), ('mutilplied', 'VBN'), ('by', 'IN'), ('4', 'CD')])"
      ]
     },
     "execution_count": 106,
     "metadata": {},
     "output_type": "execute_result"
    }
   ],
   "source": [
    "math_chunk(ie_process(\"What is 2 + 2 + 4 mutilplied by 4?\"))"
   ]
  },
  {
   "cell_type": "code",
   "execution_count": 107,
   "metadata": {
    "collapsed": false,
    "deletable": true,
    "editable": true
   },
   "outputs": [],
   "source": [
    "operators = {\n",
    "    \"mul\": \"*\",\n",
    "    \"multiply\": \"*\",\n",
    "    \"multiplied\": \"*\",\n",
    "    \"product\": \"*\",\n",
    "    \"add\": \"*\",\n",
    "    \"plus\": \"+\",\n",
    "    \"added\": \"+\",\n",
    "    \"+\": \"+\",\n",
    "    \"-\": \"-\",\n",
    "    \"*\": \"*\",\n",
    "    \"/\": \"/\",\n",
    "    \"sum\": \"+\",\n",
    "    \"minus\": \"-\",\n",
    "    \"subtract\": \"\",\n",
    "    \"subtracted\": \"-\",\n",
    "    \"sub\": \"-\",\n",
    "    \"division\": \"/\",\n",
    "    \"divided\": \"/\",\n",
    "    \"greater\": \">\",\n",
    "    \"lesser\": \"<\",\n",
    "    \"higher\": \">\",\n",
    "    \"lowest\": \"<\",\n",
    "    \">\": \">\",\n",
    "    \"<\": \"<\"\n",
    "}"
   ]
  },
  {
   "cell_type": "code",
   "execution_count": 108,
   "metadata": {
    "collapsed": false,
    "deletable": true,
    "editable": true
   },
   "outputs": [],
   "source": [
    "def process_math_chunk(chunked_sentences):\n",
    "    \"\"\"Processes a mathematical chunked sentence and returns an mathematical expression.\n",
    "    \n",
    "    chunked_sentence: inputs a math chunked sentence.\n",
    "    \n",
    "    Returns: a mathematical expression\n",
    "    \"\"\"\n",
    "    expression = \"\"\n",
    "    for chunk in chunked_sentences:\n",
    "        if isinstance(chunk, nltk.tree.Tree):\n",
    "            if chunk.label() == 'OPERATOR':\n",
    "                intent = list(set([j for i in chunk for j in i]) & set(operators.keys()))[0]\n",
    "                expression += operators[intent]\n",
    "            if chunk.label() == 'ME':\n",
    "                expression = \"(\" + process_math_chunk(chunk) + \")\"\n",
    "            if chunk.label() == 'OPERAND':\n",
    "                operand = chunk[0][0]\n",
    "                expression += operand\n",
    "    return expression\n",
    "                \n",
    "                    "
   ]
  },
  {
   "cell_type": "code",
   "execution_count": 109,
   "metadata": {
    "collapsed": true,
    "deletable": true,
    "editable": true
   },
   "outputs": [],
   "source": [
    "func_map = {\n",
    "    \"+\": lambda x, y: x + y,\n",
    "    \"-\": lambda x, y: x - y,\n",
    "    \"*\": lambda x, y: x * y,\n",
    "    \"/\": lambda x, y: x / y,\n",
    "    \"^\": lambda x, y: x ^ y\n",
    "}"
   ]
  },
  {
   "cell_type": "code",
   "execution_count": 110,
   "metadata": {
    "collapsed": false,
    "deletable": true,
    "editable": true
   },
   "outputs": [],
   "source": [
    "def infix2postfix(expression):\n",
    "    \"\"\"Converts an Infix expression to a Postfix expression\n",
    "    \n",
    "    expression: input an infix expression\n",
    "    \n",
    "    Returns: an postfix expression\n",
    "    \"\"\"\n",
    "    print(\"Printing expression\")\n",
    "    print(expression)\n",
    "    stack = []\n",
    "    stack.append('e');\n",
    "    number_str=''\n",
    "    operators = ['^', '*', '/', '+', '-']\n",
    "    operator_precedence = {\n",
    "        \"^\": 4,\n",
    "        \"*\": 3,\n",
    "        \"/\": 3,\n",
    "        \"+\": 2,\n",
    "        \"-\": 2,\n",
    "        \"(\": 0,\n",
    "        \")\": 0,\n",
    "        'e': 0\n",
    "    }\n",
    "    for token in expression:\n",
    "        if not token.isdigit() and number_str:\n",
    "            yield number_str\n",
    "            number_str = \"\"\n",
    "        \n",
    "        if token in operators:\n",
    "            while True:\n",
    "                if operator_precedence[token] > operator_precedence[stack[-1]]:\n",
    "                    stack.append(token)\n",
    "                    break\n",
    "                else:\n",
    "                    yield stack.pop()\n",
    "                    \n",
    "        elif token.isdigit():\n",
    "            number_str += token\n",
    "                    \n",
    "        elif token == \"(\":\n",
    "            stack.append(token)\n",
    "            \n",
    "        elif token == \")\":\n",
    "            while True:\n",
    "                ch = stack.pop()\n",
    "                if ch == \"(\":\n",
    "                    break\n",
    "                else:\n",
    "                    yield ch\n",
    "    if number_str:\n",
    "        yield number_str\n",
    "        \n",
    "    for s in reversed(stack[1:]):\n",
    "        yield s"
   ]
  },
  {
   "cell_type": "code",
   "execution_count": 111,
   "metadata": {
    "collapsed": true,
    "deletable": true,
    "editable": true
   },
   "outputs": [],
   "source": [
    "def postfix_calculate(iterator):\n",
    "    \"\"\"Performs calculation over postfix expression.\n",
    "    \n",
    "    iterator: inputs an postfix iterator\n",
    "    \n",
    "    Returns: a calculated value of the postfix expression\n",
    "    \"\"\"\n",
    "    stack = []\n",
    "    for ch in iterator:\n",
    "        try:\n",
    "            print(ch)\n",
    "            stack.append(float(ch))\n",
    "        except ValueError:\n",
    "            func = func_map[ch]\n",
    "            y = stack.pop()\n",
    "            x = stack.pop()\n",
    "            stack.append(func(x, y))\n",
    "    return stack[0]"
   ]
  },
  {
   "cell_type": "code",
   "execution_count": 112,
   "metadata": {
    "collapsed": false,
    "deletable": true,
    "editable": true
   },
   "outputs": [],
   "source": [
    "reflections = {\n",
    "    \"true\" : \"Yes\",\n",
    "    \"false\": \"No\"\n",
    "}\n",
    "\n",
    "answerable = [\n",
    "    [r'What is 2+3?', \n",
    "     ['Hey, {0} is {1}', \"Wohoo, {0} is {1}. Am I right?\"],\n",
    "     [\"Oops, that didnt. But you can ask me what is 232+344 multiplied by 7?. And I can be awesome :wink:\"]],\n",
    "    \n",
    "    [r'Is (.*) (?:greater than|lesser than|>|<|>=|<=) (.*)',\n",
    "     ['{2}, {0} is greater than {1}']],\n",
    "    \n",
    "    [r'Calculate (.*)',\n",
    "     ['Calculated {0} to be as {1}']],\n",
    "    \n",
    "    [r'How much is (.*)',\n",
    "     ['{0} is {1}']]\n",
    "]"
   ]
  },
  {
   "cell_type": "code",
   "execution_count": 113,
   "metadata": {
    "collapsed": false,
    "deletable": true,
    "editable": true
   },
   "outputs": [],
   "source": [
    "def reflect(fragment):\n",
    "    print(\"Printing fragment\")\n",
    "    print(fragment)\n",
    "    tokens = fragment.lower().split()\n",
    "    for i, token in enumerate(tokens):\n",
    "        if token in reflections:\n",
    "            tokens[i] = reflections[token]\n",
    "    return ' '.join(tokens)\n",
    "\n",
    "def answer(question):\n",
    "    \"\"\"Responds to the question asked\n",
    "    question: inputs a nlp statement\n",
    "    \n",
    "    Returns: a calculated value in response to the input statement\n",
    "    \"\"\"\n",
    "    sentences = sent_tokenize(question)\n",
    "    print(sentences)\n",
    "    results = []\n",
    "    for sentence in sentences:\n",
    "        tagged_sentence = ie_process(sentence)\n",
    "        chunked_sentence = math_chunk(tagged_sentence)\n",
    "        processed_chunk = process_math_chunk(chunked_sentence)\n",
    "        if len(set(['>', '<', '>=', '<=', '==', '!=']) & set(list(processed_chunk))) == 0:\n",
    "            eval_result = str(postfix_calculate(infix2postfix(processed_chunk)))\n",
    "        else:\n",
    "            eval_result = str(eval(processed_chunk))\n",
    "        for pattern, responses in answerable:\n",
    "            match = re.match(pattern, sentence.rstrip('?'))\n",
    "            if match:\n",
    "                response_groups = list(match.groups())\n",
    "                response_groups.append(eval_result)\n",
    "                results.append(responses[0].format(*[reflect(group) for group in response_groups]))\n",
    "        if len(results) < 1:\n",
    "            results.append(eval_result)\n",
    "    return results"
   ]
  },
  {
   "cell_type": "code",
   "execution_count": 114,
   "metadata": {
    "collapsed": false,
    "deletable": true,
    "editable": true,
    "scrolled": true
   },
   "outputs": [
    {
     "name": "stdout",
     "output_type": "stream",
     "text": [
      "(S What/WP is/VBZ 2/CD added/OPERATIVE_ADJECTIVE by/IN 4/CD)\n"
     ]
    },
    {
     "data": {
      "image/png": "[encoded data removed]",
      "text/plain": [
       "<IPython.core.display.Image object>"
      ]
     },
     "metadata": {},
     "output_type": "display_data"
    },
    {
     "name": "stdout",
     "output_type": "stream",
     "text": [
      "Printing expression\n",
      "\n"
     ]
    },
    {
     "ename": "IndexError",
     "evalue": "list index out of range",
     "output_type": "error",
     "traceback": [
      "\u001b[0;31m---------------------------------------------------------------------------\u001b[0m",
      "\u001b[0;31mIndexError\u001b[0m                                Traceback (most recent call last)",
      "\u001b[0;32m<ipython-input-114-2ea9fff3a1a9>\u001b[0m in \u001b[0;36m<module>\u001b[0;34m()\u001b[0m\n\u001b[0;32m----> 1\u001b[0;31m \u001b[0mpostfix_calculate\u001b[0m\u001b[0;34m(\u001b[0m\u001b[0minfix2postfix\u001b[0m\u001b[0;34m(\u001b[0m\u001b[0mprocess_math_chunk\u001b[0m\u001b[0;34m(\u001b[0m\u001b[0mmath_chunk\u001b[0m\u001b[0;34m(\u001b[0m\u001b[0mie_process\u001b[0m\u001b[0;34m(\u001b[0m\u001b[0msent_tokenize\u001b[0m\u001b[0;34m(\u001b[0m\u001b[0;34m\"What is 2 added by 4?\"\u001b[0m\u001b[0;34m)\u001b[0m\u001b[0;34m[\u001b[0m\u001b[0;36m0\u001b[0m\u001b[0;34m]\u001b[0m\u001b[0;34m)\u001b[0m\u001b[0;34m)\u001b[0m\u001b[0;34m)\u001b[0m\u001b[0;34m)\u001b[0m\u001b[0;34m)\u001b[0m\u001b[0;34m\u001b[0m\u001b[0m\n\u001b[0m",
      "\u001b[0;32m<ipython-input-111-dedfb9a3beab>\u001b[0m in \u001b[0;36mpostfix_calculate\u001b[0;34m(iterator)\u001b[0m\n\u001b[1;32m     16\u001b[0m             \u001b[0mx\u001b[0m \u001b[0;34m=\u001b[0m \u001b[0mstack\u001b[0m\u001b[0;34m.\u001b[0m\u001b[0mpop\u001b[0m\u001b[0;34m(\u001b[0m\u001b[0;34m)\u001b[0m\u001b[0;34m\u001b[0m\u001b[0m\n\u001b[1;32m     17\u001b[0m             \u001b[0mstack\u001b[0m\u001b[0;34m.\u001b[0m\u001b[0mappend\u001b[0m\u001b[0;34m(\u001b[0m\u001b[0mfunc\u001b[0m\u001b[0;34m(\u001b[0m\u001b[0mx\u001b[0m\u001b[0;34m,\u001b[0m \u001b[0my\u001b[0m\u001b[0;34m)\u001b[0m\u001b[0;34m)\u001b[0m\u001b[0;34m\u001b[0m\u001b[0m\n\u001b[0;32m---> 18\u001b[0;31m     \u001b[0;32mreturn\u001b[0m \u001b[0mstack\u001b[0m\u001b[0;34m[\u001b[0m\u001b[0;36m0\u001b[0m\u001b[0;34m]\u001b[0m\u001b[0;34m\u001b[0m\u001b[0m\n\u001b[0m",
      "\u001b[0;31mIndexError\u001b[0m: list index out of range"
     ]
    }
   ],
   "source": [
    "postfix_calculate(infix2postfix(process_math_chunk(math_chunk(ie_process(sent_tokenize(\"What is 2 added by 4?\")[0])))))"
   ]
  },
  {
   "cell_type": "code",
   "execution_count": null,
   "metadata": {
    "collapsed": false,
    "deletable": true,
    "editable": true
   },
   "outputs": [],
   "source": [
    "eval(process_math_chunk(math_chunk(ie_process(sent_tokenize(\"What is 2 added by 4?\")[0]))))"
   ]
  },
  {
   "cell_type": "code",
   "execution_count": null,
   "metadata": {
    "collapsed": false,
    "deletable": true,
    "editable": true
   },
   "outputs": [],
   "source": [
    "' '.join(answer(\"What is 2+2?\"))"
   ]
  },
  {
   "cell_type": "code",
   "execution_count": null,
   "metadata": {
    "collapsed": false,
    "deletable": true,
    "editable": true
   },
   "outputs": [],
   "source": [
    "math_chunk(ie_process(\"What is 2 added by 2\"))"
   ]
  },
  {
   "cell_type": "code",
   "execution_count": null,
   "metadata": {
    "collapsed": true,
    "deletable": true,
    "editable": true
   },
   "outputs": [],
   "source": [
    "def extract_features(question):\n",
    "    tokenized_question = word_tokenize(question)\n",
    "    start_of_question = tokenized_question[0]\n",
    "    presence_of_boolean_op = len(set(['true', 'false']).intersection(tokenized_question)) > 0\n",
    "    presence_of_comparison_op = len(set(['greater', 'lesser']).intersection(tokenized_question)) > 0\n",
    "    return {\n",
    "        \"start_of_question\": start_of_question,\n",
    "        \"presence_of_boolean_op\": presence_of_boolean_op,\n",
    "        \"presence_of_comparison_op\": presence_of_comparison_op\n",
    "    }"
   ]
  },
  {
   "cell_type": "code",
   "execution_count": null,
   "metadata": {
    "collapsed": false,
    "deletable": true,
    "editable": true
   },
   "outputs": [],
   "source": [
    "featureset = [];\n",
    "for file in ['compute', 'boolean', 'comparison']: \n",
    "    with open(file) as fp:\n",
    "        featureset += [(extract_features(line), file) for line in fp]\n",
    "\n",
    "len(featureset)"
   ]
  },
  {
   "cell_type": "code",
   "execution_count": null,
   "metadata": {
    "collapsed": false,
    "deletable": true,
    "editable": true
   },
   "outputs": [],
   "source": [
    "import random\n",
    "\n",
    "random.shuffle(featureset)\n",
    "\n",
    "trainset, testset = featureset[15:], featureset[:15]\n",
    "\n",
    "classifier = nltk.NaiveBayesClassifier.train(trainset)\n",
    "\n",
    "classifier.classify(extract_features(\"Is 43+24 greater than 22?\"))\n",
    "\n",
    "nltk.classify.accuracy(classifier, testset)"
   ]
  },
  {
   "cell_type": "code",
   "execution_count": null,
   "metadata": {
    "collapsed": false,
    "deletable": true,
    "editable": true
   },
   "outputs": [],
   "source": [
    "if 32*443 > 32*2:\n",
    "    print(\"hell0\")"
   ]
  },
  {
   "cell_type": "code",
   "execution_count": null,
   "metadata": {
    "collapsed": false,
    "deletable": true,
    "editable": true
   },
   "outputs": [],
   "source": [
    "nltk.data.show_cfg('grammars/book_grammars/sql0.fcfg')"
   ]
  },
  {
   "cell_type": "code",
   "execution_count": null,
   "metadata": {
    "collapsed": false,
    "deletable": true,
    "editable": true
   },
   "outputs": [],
   "source": [
    "nltk.parse_cfg()"
   ]
  },
  {
   "cell_type": "code",
   "execution_count": null,
   "metadata": {
    "collapsed": true,
    "deletable": true,
    "editable": true
   },
   "outputs": [],
   "source": [
    "import nltk"
   ]
  },
  {
   "cell_type": "code",
   "execution_count": null,
   "metadata": {
    "collapsed": false,
    "deletable": true,
    "editable": true
   },
   "outputs": [],
   "source": [
    "grammar = nltk.CFG.fromstring(\"\"\"\n",
    "S -> NP VP\n",
    "PP -> P NP\n",
    "NP -> Det N | Det N PP | 'I'\n",
    "VP -> V NP | VP PP\n",
    "Det -> 'an' | 'my'\n",
    "N -> 'elephant'| 'pajamas'\n",
    "V -> 'shot'\n",
    "P -> 'in'\n",
    "\"\"\")"
   ]
  },
  {
   "cell_type": "code",
   "execution_count": null,
   "metadata": {
    "collapsed": false,
    "deletable": true,
    "editable": true
   },
   "outputs": [],
   "source": [
    "grammar.start()"
   ]
  },
  {
   "cell_type": "code",
   "execution_count": null,
   "metadata": {
    "collapsed": false,
    "deletable": true,
    "editable": true
   },
   "outputs": [],
   "source": [
    "parser = nltk.ChartParser(grammar)\n",
    "for tree in parser.parse(word_tokenize(\"I shot an elephant in my pajamas\")):\n",
    "    print(tree)"
   ]
  },
  {
   "cell_type": "code",
   "execution_count": null,
   "metadata": {
    "collapsed": false,
    "deletable": true,
    "editable": true
   },
   "outputs": [],
   "source": [
    "nltk.pos_tag(word_tokenize(\"All the trains from chennai central to Bangalore cant\"))"
   ]
  },
  {
   "cell_type": "code",
   "execution_count": null,
   "metadata": {
    "collapsed": false,
    "deletable": true,
    "editable": true
   },
   "outputs": [],
   "source": [
    "nltk.pos_tag(word_tokenize('all trains from chennai,bangalore'))"
   ]
  },
  {
   "cell_type": "code",
   "execution_count": null,
   "metadata": {
    "collapsed": true,
    "deletable": true,
    "editable": true
   },
   "outputs": [],
   "source": [
    "read_expr = nltk.sem.Expression.fromstring"
   ]
  },
  {
   "cell_type": "code",
   "execution_count": null,
   "metadata": {
    "collapsed": false,
    "deletable": true,
    "editable": true
   },
   "outputs": [],
   "source": [
    "expression = read_expr('walk(\"angus\")', type_check=True)"
   ]
  },
  {
   "cell_type": "code",
   "execution_count": null,
   "metadata": {
    "collapsed": false,
    "deletable": true,
    "editable": true
   },
   "outputs": [],
   "source": [
    "expression.argument"
   ]
  },
  {
   "cell_type": "code",
   "execution_count": null,
   "metadata": {
    "collapsed": false,
    "deletable": true,
    "editable": true
   },
   "outputs": [],
   "source": [
    "expression.argument.type"
   ]
  },
  {
   "cell_type": "code",
   "execution_count": null,
   "metadata": {
    "collapsed": false,
    "deletable": true,
    "editable": true
   },
   "outputs": [],
   "source": [
    "answer('What is 2+5+3 multiplied by 5?')"
   ]
  },
  {
   "cell_type": "code",
   "execution_count": null,
   "metadata": {
    "collapsed": true,
    "deletable": true,
    "editable": true
   },
   "outputs": [],
   "source": [
    "from nltk import load_parser"
   ]
  },
  {
   "cell_type": "code",
   "execution_count": null,
   "metadata": {
    "collapsed": false,
    "deletable": true,
    "editable": true
   },
   "outputs": [],
   "source": [
    "cp = load_parser('test1.fcfg', trace=3)"
   ]
  },
  {
   "cell_type": "code",
   "execution_count": null,
   "metadata": {
    "collapsed": true,
    "deletable": true,
    "editable": true
   },
   "outputs": [],
   "source": [
    "operative_adjectives = [\n",
    "    'added',\n",
    "    'substracted',\n",
    "    'multiplied',\n",
    "    'divided'\n",
    "]"
   ]
  },
  {
   "cell_type": "code",
   "execution_count": null,
   "metadata": {
    "collapsed": false,
    "deletable": true,
    "editable": true
   },
   "outputs": [],
   "source": [
    "class LocationBackedPOSTagger(SequentialBackoffTagger):\n",
    "    \n",
    "    def __init__(self, *args, **kwargs):\n",
    "        SequentialBackoffTagger.__init__(self, *args, **kwargs)\n",
    "        self.operator_set = list(operators.keys())\n",
    "        self.operative_adjectives = ['added', 'substracted', 'multiplied', 'divided']\n",
    "        \n",
    "    def choose_tag(self, tokens, index, history):\n",
    "        tag = None\n",
    "        if tokens[index] in self.operator_set:\n",
    "            tag = 'OPERATOR'\n",
    "        if tokens[index] in self.operative_adjectives:\n",
    "            tag = 'OPERATIVE_ADJECTIVE'\n",
    "        else:\n",
    "            tag = nltk.pos_tag([tokens[index]])[0][1]\n",
    "        return tag"
   ]
  },
  {
   "cell_type": "code",
   "execution_count": null,
   "metadata": {
    "collapsed": true,
    "deletable": true,
    "editable": true
   },
   "outputs": [],
   "source": [
    "operators = {\n",
    "    'plus': '+',\n",
    "    'add': '+',\n",
    "    'sum': '+',\n",
    "    '+': '+',\n",
    "    'difference': '-',\n",
    "    'minus': '-',\n",
    "    '-': '-',\n",
    "    'product': '*',\n",
    "    'multiply': '*',\n",
    "    '*': '*',\n",
    "    'divide': '/',\n",
    "    'division': '/',\n",
    "    '/': '/'\n",
    "}"
   ]
  },
  {
   "cell_type": "code",
   "execution_count": null,
   "metadata": {
    "collapsed": false,
    "deletable": true,
    "editable": true,
    "scrolled": true
   },
   "outputs": [],
   "source": [
    "math_chunk(ie_process('What is 2 plus 2 added by 4?'))"
   ]
  },
  {
   "cell_type": "code",
   "execution_count": null,
   "metadata": {
    "collapsed": false,
    "deletable": true,
    "editable": true
   },
   "outputs": [],
   "source": [
    "tagger = LocationBackedPOSTagger()\n",
    "\n",
    "# Testing the working of LocationBackedPOSTagger\n",
    "tagged_words = tagger.tag(word_tokenize('What is 2 plus 2 added by 4?'))\n",
    "\n",
    "tagged_words"
   ]
  },
  {
   "cell_type": "code",
   "execution_count": null,
   "metadata": {
    "collapsed": false,
    "deletable": true,
    "editable": true
   },
   "outputs": [],
   "source": [
    "list(operators.keys())"
   ]
  },
  {
   "cell_type": "code",
   "execution_count": 118,
   "metadata": {
    "collapsed": true
   },
   "outputs": [],
   "source": [
    "def ie_process(sentence):\n",
    "    \"\"\" Tokenizes and Tags each sentence.\n",
    "    \n",
    "    sentence: inputs a sentence.\n",
    "    \n",
    "    Returns: a tagged sentence.\n",
    "    \"\"\"\n",
    "    tokenized_sentence = re.findall(r\"(\\b\\w*[\\.]?\\w+\\b|[\\(\\)\\+\\*\\-\\/])\", sentence)\n",
    "    tagged_sentence = tagger.tag(tokenized_sentence)\n",
    "    return tagged_sentence"
   ]
  },
  {
   "cell_type": "code",
   "execution_count": 119,
   "metadata": {
    "collapsed": false
   },
   "outputs": [],
   "source": [
    "tagged_words = ie_process('What is 2 added by 2?')"
   ]
  },
  {
   "cell_type": "code",
   "execution_count": 116,
   "metadata": {
    "collapsed": false
   },
   "outputs": [
    {
     "name": "stdout",
     "output_type": "stream",
     "text": [
      "(S What/WP is/VBZ 2/CD added/OPERATIVE_ADJECTIVE by/IN 2/CD)\n"
     ]
    },
    {
     "data": {
      "image/png": "[encoded data removed]",
      "text/plain": [
       "<IPython.core.display.Image object>"
      ]
     },
     "metadata": {},
     "output_type": "display_data"
    },
    {
     "ename": "FileNotFoundError",
     "evalue": "[Errno 2] No such file or directory: '/tmp/tmp5np2wj2c.png'",
     "output_type": "error",
     "traceback": [
      "\u001b[0;31m---------------------------------------------------------------------------\u001b[0m",
      "\u001b[0;31mFileNotFoundError\u001b[0m                         Traceback (most recent call last)",
      "\u001b[0;32m/home/nishant/venvs/mathmonk/lib/python3.5/site-packages/IPython/core/formatters.py\u001b[0m in \u001b[0;36m__call__\u001b[0;34m(self, obj)\u001b[0m\n\u001b[1;32m    309\u001b[0m             \u001b[0mmethod\u001b[0m \u001b[0;34m=\u001b[0m \u001b[0mget_real_method\u001b[0m\u001b[0;34m(\u001b[0m\u001b[0mobj\u001b[0m\u001b[0;34m,\u001b[0m \u001b[0mself\u001b[0m\u001b[0;34m.\u001b[0m\u001b[0mprint_method\u001b[0m\u001b[0;34m)\u001b[0m\u001b[0;34m\u001b[0m\u001b[0m\n\u001b[1;32m    310\u001b[0m             \u001b[0;32mif\u001b[0m \u001b[0mmethod\u001b[0m \u001b[0;32mis\u001b[0m \u001b[0;32mnot\u001b[0m \u001b[0;32mNone\u001b[0m\u001b[0;34m:\u001b[0m\u001b[0;34m\u001b[0m\u001b[0m\n\u001b[0;32m--> 311\u001b[0;31m                 \u001b[0;32mreturn\u001b[0m \u001b[0mmethod\u001b[0m\u001b[0;34m(\u001b[0m\u001b[0;34m)\u001b[0m\u001b[0;34m\u001b[0m\u001b[0m\n\u001b[0m\u001b[1;32m    312\u001b[0m             \u001b[0;32mreturn\u001b[0m \u001b[0;32mNone\u001b[0m\u001b[0;34m\u001b[0m\u001b[0m\n\u001b[1;32m    313\u001b[0m         \u001b[0;32melse\u001b[0m\u001b[0;34m:\u001b[0m\u001b[0;34m\u001b[0m\u001b[0m\n",
      "\u001b[0;32m/home/nishant/venvs/mathmonk/lib/python3.5/site-packages/nltk/tree.py\u001b[0m in \u001b[0;36m_repr_png_\u001b[0;34m(self)\u001b[0m\n\u001b[1;32m    727\u001b[0m                             \u001b[0;34m'-q -dEPSCrop -sDEVICE=png16m -r90 -dTextAlphaBits=4 -dGraphicsAlphaBits=4 -dSAFER -dBATCH -dNOPAUSE -sOutputFile={0:} {1:}'\u001b[0m\u001b[0;34m\u001b[0m\u001b[0m\n\u001b[1;32m    728\u001b[0m                             .format(out_path, in_path).split())\n\u001b[0;32m--> 729\u001b[0;31m             \u001b[0;32mwith\u001b[0m \u001b[0mopen\u001b[0m\u001b[0;34m(\u001b[0m\u001b[0mout_path\u001b[0m\u001b[0;34m,\u001b[0m \u001b[0;34m'rb'\u001b[0m\u001b[0;34m)\u001b[0m \u001b[0;32mas\u001b[0m \u001b[0msr\u001b[0m\u001b[0;34m:\u001b[0m\u001b[0;34m\u001b[0m\u001b[0m\n\u001b[0m\u001b[1;32m    730\u001b[0m                 \u001b[0mres\u001b[0m \u001b[0;34m=\u001b[0m \u001b[0msr\u001b[0m\u001b[0;34m.\u001b[0m\u001b[0mread\u001b[0m\u001b[0;34m(\u001b[0m\u001b[0;34m)\u001b[0m\u001b[0;34m\u001b[0m\u001b[0m\n\u001b[1;32m    731\u001b[0m             \u001b[0mos\u001b[0m\u001b[0;34m.\u001b[0m\u001b[0mremove\u001b[0m\u001b[0;34m(\u001b[0m\u001b[0min_path\u001b[0m\u001b[0;34m)\u001b[0m\u001b[0;34m\u001b[0m\u001b[0m\n",
      "\u001b[0;31mFileNotFoundError\u001b[0m: [Errno 2] No such file or directory: '/tmp/tmp5np2wj2c.png'"
     ]
    },
    {
     "data": {
      "text/plain": [
       "Tree('S', [('What', 'WP'), ('is', 'VBZ'), ('2', 'CD'), ('added', 'OPERATIVE_ADJECTIVE'), ('by', 'IN'), ('2', 'CD')])"
      ]
     },
     "execution_count": 116,
     "metadata": {},
     "output_type": "execute_result"
    }
   ],
   "source": [
    "math_chunk(tagged_words)"
   ]
  },
  {
   "cell_type": "code",
   "execution_count": null,
   "metadata": {
    "collapsed": false
   },
   "outputs": [],
   "source": [
    "tokens = list(set([tag for word, tag in tagged_words]) & set(['CD', 'OPERATIVE_ADJECTIVE', 'OPERATOR']))"
   ]
  },
  {
   "cell_type": "code",
   "execution_count": null,
   "metadata": {
    "collapsed": false
   },
   "outputs": [],
   "source": [
    "[jupyter_draw_nltk_tree(tree) for tree in list(cp.parse(tokens))]"
   ]
  }
 ],
 "metadata": {
  "kernelspec": {
   "display_name": "Python 3",
   "language": "python",
   "name": "python3"
  },
  "language_info": {
   "codemirror_mode": {
    "name": "ipython",
    "version": 3
   },
   "file_extension": ".py",
   "mimetype": "text/x-python",
   "name": "python",
   "nbconvert_exporter": "python",
   "pygments_lexer": "ipython3",
   "version": "3.5.2"
  }
 },
 "nbformat": 4,
 "nbformat_minor": 2
}
