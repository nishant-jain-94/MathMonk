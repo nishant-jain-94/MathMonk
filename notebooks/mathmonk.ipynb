{
 "cells": [
  {
   "cell_type": "code",
   "execution_count": 1,
   "metadata": {
    "collapsed": true,
    "deletable": true,
    "editable": true
   },
   "outputs": [],
   "source": [
    "import nltk\n",
    "import re\n",
    "import os\n",
    "import IPython\n",
    "from nltk.draw import TreeWidget\n",
    "from nltk.draw.util import CanvasFrame\n",
    "from nltk.tag import SequentialBackoffTagger\n",
    "from nltk import load_parser\n",
    "from nltk import word_tokenize, sent_tokenize"
   ]
  },
  {
   "cell_type": "code",
   "execution_count": 2,
   "metadata": {
    "collapsed": true,
    "deletable": true,
    "editable": true
   },
   "outputs": [],
   "source": [
    "operators = {\n",
    "    'plus': '+',\n",
    "    'add': '+',\n",
    "    'sum': '+',\n",
    "    '+': '+',\n",
    "    'difference': '-',\n",
    "    'minus': '-',\n",
    "    '-': '-',\n",
    "    'product': '*',\n",
    "    'multiply': '*',\n",
    "    '*': '*',\n",
    "    'divide': '/',\n",
    "    'division': '/',\n",
    "    '/': '/'\n",
    "}\n",
    "\n",
    "operative_adjectives = {\n",
    "    \"added\": \"+\",\n",
    "    \"divided\": \"/\",\n",
    "    \"multiplied\": \"*\",\n",
    "    \"substracted\": \"-\"\n",
    "}"
   ]
  },
  {
   "cell_type": "code",
   "execution_count": null,
   "metadata": {
    "collapsed": true,
    "deletable": true,
    "editable": true
   },
   "outputs": [],
   "source": []
  },
  {
   "cell_type": "code",
   "execution_count": 3,
   "metadata": {
    "collapsed": true,
    "deletable": true,
    "editable": true
   },
   "outputs": [],
   "source": [
    "def jupyter_draw_nltk_tree(tree):\n",
    "    cf = CanvasFrame()\n",
    "    tc = TreeWidget(cf.canvas(), tree)\n",
    "    tc['node_font'] = 'arial 13 bold'\n",
    "    tc['leaf_font'] = 'arial 14'\n",
    "    tc['node_color'] = '#005990'\n",
    "    tc['leaf_color'] = '#3F8F57'\n",
    "    tc['line_color'] = '#175252'\n",
    "    cf.add_widget(tc, 10, 10)\n",
    "    cf.print_to_file('tmp_tree_output.ps')\n",
    "    cf.destroy()\n",
    "    os.system('convert tmp_tree_output.ps tmp_tree_output.png')\n",
    "    IPython.core.display.display(IPython.core.display.Image(filename='tmp_tree_output.png'))\n",
    "    os.system('rm tmp_tree_output.ps tmp_tree_output.png')"
   ]
  },
  {
   "cell_type": "code",
   "execution_count": 4,
   "metadata": {
    "collapsed": true,
    "deletable": true,
    "editable": true
   },
   "outputs": [],
   "source": [
    "class OperatorTagger(SequentialBackoffTagger):\n",
    "    \n",
    "    def __init__(self, *args, **kwargs):\n",
    "        SequentialBackoffTagger.__init__(self, *args, **kwargs)\n",
    "        self.operator_set = operators.keys()\n",
    "        self.operative_adjectives = ['added', 'multiplied', 'divided', 'substracted']\n",
    "        \n",
    "    def choose_tag(self, tokens, index, history):\n",
    "        tag = None\n",
    "        if tokens[index] in self.operator_set:\n",
    "            tag = 'OPERATOR'\n",
    "        elif tokens[index] in self.operative_adjectives:\n",
    "            tag = 'OPER_ADJ'\n",
    "        else:\n",
    "            tag = nltk.pos_tag([tokens[index]])[0][1]\n",
    "        return tag"
   ]
  },
  {
   "cell_type": "code",
   "execution_count": 5,
   "metadata": {
    "collapsed": true,
    "deletable": true,
    "editable": true
   },
   "outputs": [],
   "source": [
    "def ie_process(sentence):\n",
    "    tokenized_words = re.findall(r\"(\\b\\w*[\\.]?\\w+\\b|[\\(\\)\\+\\*\\-\\/])\", sentence)\n",
    "    print(tokenized_words)\n",
    "    operator_tagger = OperatorTagger()\n",
    "    tagged_words = operator_tagger.tag(tokenized_words)\n",
    "    return tagged_words"
   ]
  },
  {
   "cell_type": "code",
   "execution_count": 6,
   "metadata": {
    "collapsed": true,
    "deletable": true,
    "editable": true
   },
   "outputs": [],
   "source": [
    "def chunk(tagged_sentence):\n",
    "    grammar = r\"\"\"\n",
    "    ME: {<CD><OPERATOR><CD>}\n",
    "    \"\"\"\n",
    "    cp = nltk.RegexpParser(grammar)\n",
    "    tree = cp.parse(tagged_sentence)\n",
    "    jupyter_draw_nltk_tree(tree)\n",
    "    return tree"
   ]
  },
  {
   "cell_type": "code",
   "execution_count": 7,
   "metadata": {
    "collapsed": false,
    "deletable": true,
    "editable": true
   },
   "outputs": [],
   "source": [
    "def transform_chunk(expression, temp, chunk=None):\n",
    "    if expression.endswith(\"(\"):\n",
    "        temp.append(\")\")\n",
    "    expression += ''.join(temp)\n",
    "    if chunk:\n",
    "        expression = \"(\" + expression + \")\"\n",
    "        expression += operative_adjectives[chunk[0]]\n",
    "        expression += \"(\"\n",
    "    return expression\n",
    "    \n",
    "def process_chunk(chunked_sentence):\n",
    "    expression = \"\"\n",
    "    temp = []\n",
    "    for chunk in chunked_sentence:\n",
    "        if isinstance(chunk, nltk.tree.Tree) and chunk.label() == 'ME':\n",
    "            temp.append(process_chunk(chunk))\n",
    "        elif chunk[1] == \"CD\":\n",
    "            temp.append(chunk[0])\n",
    "        elif chunk[1] == \"OPERATOR\":\n",
    "            temp.append(operators[chunk[0]])\n",
    "        elif chunk[1] == \"OPER_ADJ\":\n",
    "            print(\"OPER_ADJ\")\n",
    "            expression = transform_chunk(expression, temp, chunk)\n",
    "            temp = []\n",
    "        print(\"----------------------------------------------------\")\n",
    "        print(expression)\n",
    "        print(temp)\n",
    "    if temp: expression = transform_chunk(expression, temp)\n",
    "    return expression"
   ]
  },
  {
   "cell_type": "code",
   "execution_count": 8,
   "metadata": {
    "collapsed": false,
    "deletable": true,
    "editable": true
   },
   "outputs": [
    {
     "name": "stdout",
     "output_type": "stream",
     "text": [
      "['What', 'is', '2', 'added', 'by', '2']\n"
     ]
    },
    {
     "data": {
      "text/plain": [
       "[('What', 'WP'),\n",
       " ('is', 'VBZ'),\n",
       " ('2', 'CD'),\n",
       " ('added', 'OPER_ADJ'),\n",
       " ('by', 'IN'),\n",
       " ('2', 'CD')]"
      ]
     },
     "execution_count": 8,
     "metadata": {},
     "output_type": "execute_result"
    }
   ],
   "source": [
    "ie_process('What is 2 added by 2?')"
   ]
  },
  {
   "cell_type": "code",
   "execution_count": 9,
   "metadata": {
    "collapsed": false,
    "deletable": true,
    "editable": true
   },
   "outputs": [
    {
     "name": "stdout",
     "output_type": "stream",
     "text": [
      "['What', 'is', '2', '+', '3', '+', '5', '+', '77', 'multiplied', 'by', '5', '+', '43', 'added', 'by', '7']\n"
     ]
    },
    {
     "data": {
      "image/png": "[encoded data removed]",
      "text/plain": [
       "<IPython.core.display.Image object>"
      ]
     },
     "metadata": {},
     "output_type": "display_data"
    },
    {
     "name": "stdout",
     "output_type": "stream",
     "text": [
      "----------------------------------------------------\n",
      "\n",
      "[]\n",
      "----------------------------------------------------\n",
      "\n",
      "[]\n",
      "----------------------------------------------------\n",
      "\n",
      "['2']\n",
      "----------------------------------------------------\n",
      "\n",
      "['2', '+']\n",
      "----------------------------------------------------\n",
      "\n",
      "['2', '+', '3']\n",
      "----------------------------------------------------\n",
      "\n",
      "['2+3']\n",
      "----------------------------------------------------\n",
      "\n",
      "['2+3', '+']\n",
      "----------------------------------------------------\n",
      "\n",
      "['5']\n",
      "----------------------------------------------------\n",
      "\n",
      "['5', '+']\n",
      "----------------------------------------------------\n",
      "\n",
      "['5', '+', '77']\n",
      "----------------------------------------------------\n",
      "\n",
      "['2+3', '+', '5+77']\n",
      "OPER_ADJ\n",
      "----------------------------------------------------\n",
      "(2+3+5+77)*(\n",
      "[]\n",
      "----------------------------------------------------\n",
      "(2+3+5+77)*(\n",
      "[]\n",
      "----------------------------------------------------\n",
      "\n",
      "['5']\n",
      "----------------------------------------------------\n",
      "\n",
      "['5', '+']\n",
      "----------------------------------------------------\n",
      "\n",
      "['5', '+', '43']\n",
      "----------------------------------------------------\n",
      "(2+3+5+77)*(\n",
      "['5+43']\n",
      "OPER_ADJ\n",
      "----------------------------------------------------\n",
      "((2+3+5+77)*(5+43))+(\n",
      "[]\n",
      "----------------------------------------------------\n",
      "((2+3+5+77)*(5+43))+(\n",
      "[]\n",
      "----------------------------------------------------\n",
      "((2+3+5+77)*(5+43))+(\n",
      "['7']\n"
     ]
    },
    {
     "data": {
      "text/plain": [
       "'((2+3+5+77)*(5+43))+(7)'"
      ]
     },
     "execution_count": 9,
     "metadata": {},
     "output_type": "execute_result"
    }
   ],
   "source": [
    "process_chunk(chunk(ie_process('What is 2+3+5+77 multiplied by 5+43 added by 7?')))"
   ]
  },
  {
   "cell_type": "code",
   "execution_count": 10,
   "metadata": {
    "collapsed": true,
    "deletable": true,
    "editable": true
   },
   "outputs": [],
   "source": [
    "func_map = {\n",
    "    \"+\": lambda x, y: x + y,\n",
    "    \"-\": lambda x, y: x - y,\n",
    "    \"*\": lambda x, y: x * y,\n",
    "    \"/\": lambda x, y: x / y ,\n",
    "    \"^\": lambda x, y: x ^ y\n",
    "}"
   ]
  },
  {
   "cell_type": "code",
   "execution_count": 11,
   "metadata": {
    "collapsed": true,
    "deletable": true,
    "editable": true
   },
   "outputs": [],
   "source": [
    "def infix2postfix(expression):\n",
    "    \"\"\"Converts an Infix expression to a Postfix expression\n",
    "    \n",
    "    expression: input an infix expression\n",
    "    \n",
    "    Returns: an postfix expression\n",
    "    \"\"\"\n",
    "    print(\"Printing expression\")\n",
    "    print(expression)\n",
    "    stack = []\n",
    "    stack.append('e');\n",
    "    number_str=''\n",
    "    operators = ['^', '*', '/', '+', '-']\n",
    "    operator_precedence = {\n",
    "        \"^\": 4,\n",
    "        \"*\": 3,\n",
    "        \"/\": 3,\n",
    "        \"+\": 2,\n",
    "        \"-\": 2,\n",
    "        \"(\": 0,\n",
    "        \")\": 0,\n",
    "        'e': 0\n",
    "    }\n",
    "    for token in expression:\n",
    "        if not token.isdigit() and number_str:\n",
    "            yield number_str\n",
    "            number_str = \"\"\n",
    "        \n",
    "        if token in operators:\n",
    "            while True:\n",
    "                if operator_precedence[token] > operator_precedence[stack[-1]]:\n",
    "                    stack.append(token)\n",
    "                    break\n",
    "                else:\n",
    "                    yield stack.pop()\n",
    "                    \n",
    "        elif token.isdigit():\n",
    "            number_str += token\n",
    "                    \n",
    "        elif token == \"(\":\n",
    "            stack.append(token)\n",
    "            \n",
    "        elif token == \")\":\n",
    "            while True:\n",
    "                ch = stack.pop()\n",
    "                if ch == \"(\":\n",
    "                    break\n",
    "                else:\n",
    "                    yield ch\n",
    "    if number_str:\n",
    "        yield number_str\n",
    "        \n",
    "    for s in reversed(stack[1:]):\n",
    "        yield s"
   ]
  },
  {
   "cell_type": "code",
   "execution_count": 12,
   "metadata": {
    "collapsed": true,
    "deletable": true,
    "editable": true
   },
   "outputs": [],
   "source": [
    "def postfix_calculate(iterator):\n",
    "    \"\"\"Performs calculation over postfix expression.\n",
    "    \n",
    "    iterator: inputs an postfix iterator\n",
    "    \n",
    "    Returns: a calculated value of the postfix expression\n",
    "    \"\"\"\n",
    "    stack = []\n",
    "    for ch in iterator:\n",
    "        try:\n",
    "            print(ch)\n",
    "            stack.append(float(ch))\n",
    "        except ValueError:\n",
    "            func = func_map[ch]\n",
    "            y = stack.pop()\n",
    "            x = stack.pop()\n",
    "            stack.append(func(x, y))\n",
    "\n",
    "    return stack[0]"
   ]
  },
  {
   "cell_type": "code",
   "execution_count": null,
   "metadata": {
    "collapsed": true,
    "deletable": true,
    "editable": true
   },
   "outputs": [],
   "source": []
  },
  {
   "cell_type": "code",
   "execution_count": 13,
   "metadata": {
    "collapsed": false,
    "deletable": true,
    "editable": true
   },
   "outputs": [
    {
     "name": "stdout",
     "output_type": "stream",
     "text": [
      "['What', 'is', '2', '+', '3', '+', '5', '+', '77', 'divided', 'by']\n"
     ]
    },
    {
     "data": {
      "image/png": "[encoded data removed]",
      "text/plain": [
       "<IPython.core.display.Image object>"
      ]
     },
     "metadata": {},
     "output_type": "display_data"
    },
    {
     "name": "stdout",
     "output_type": "stream",
     "text": [
      "----------------------------------------------------\n",
      "\n",
      "[]\n",
      "----------------------------------------------------\n",
      "\n",
      "[]\n",
      "----------------------------------------------------\n",
      "\n",
      "['2']\n",
      "----------------------------------------------------\n",
      "\n",
      "['2', '+']\n",
      "----------------------------------------------------\n",
      "\n",
      "['2', '+', '3']\n",
      "----------------------------------------------------\n",
      "\n",
      "['2+3']\n",
      "----------------------------------------------------\n",
      "\n",
      "['2+3', '+']\n",
      "----------------------------------------------------\n",
      "\n",
      "['5']\n",
      "----------------------------------------------------\n",
      "\n",
      "['5', '+']\n",
      "----------------------------------------------------\n",
      "\n",
      "['5', '+', '77']\n",
      "----------------------------------------------------\n",
      "\n",
      "['2+3', '+', '5+77']\n",
      "OPER_ADJ\n",
      "----------------------------------------------------\n",
      "(2+3+5+77)/(\n",
      "[]\n",
      "----------------------------------------------------\n",
      "(2+3+5+77)/(\n",
      "[]\n",
      "Printing expression\n",
      "(2+3+5+77)/(\n",
      "2\n",
      "3\n",
      "+\n",
      "5\n",
      "+\n",
      "77\n",
      "+\n",
      "(\n",
      "Ooops that didnt work\n"
     ]
    }
   ],
   "source": [
    "try:\n",
    "    print(postfix_calculate(infix2postfix(process_chunk(chunk(ie_process('What is 2+3+5+77 divided by ?'))))))\n",
    "except ZeroDivisionError:\n",
    "    print(\"Arrgh, I cant divide by zero\")\n",
    "except:\n",
    "    print(\"Ooops that didnt work\")"
   ]
  },
  {
   "cell_type": "code",
   "execution_count": 19,
   "metadata": {
    "collapsed": false,
    "deletable": true,
    "editable": true
   },
   "outputs": [],
   "source": [
    "import re, math\n",
    "from corpus import read_corpus\n",
    "from util import MathProcessor\n",
    "from collections import Counter\n",
    "import numpy as np\n",
    "\n",
    "def get_cosine_distance(statement, other_statement):\n",
    "    tokenized_statement = word_tokenize(statement.lower())\n",
    "    tokenized_other_statement = word_tokenize(other_statement.lower())\n",
    "    vector1 = Counter(tokenized_statement)\n",
    "    vector2 = Counter(tokenized_other_statement)\n",
    "    intersection = set(vector1) & set(vector2)\n",
    "    numerator = sum([vector1[word] * vector2[word] for word in intersection])\n",
    "    squared_sum_of_vector1 = sum([vector1[word] ** 2 for word in vector1.keys()])\n",
    "    squared_sum_of_vector2 = sum([vector2[word] ** 2 for word in vector2.keys()])\n",
    "    root_of_squared_sum_of_vector1 = math.sqrt(squared_sum_of_vector1)\n",
    "    root_of_squared_sum_of_vector2 = math.sqrt(squared_sum_of_vector2)\n",
    "    denominator = root_of_squared_sum_of_vector1 * root_of_squared_sum_of_vector2\n",
    "    if not denominator:\n",
    "        return 0\n",
    "    else:\n",
    "        return float(numerator) / denominator\n",
    "    \n",
    "    \n",
    "def synset_distance(statement, other_statement):\n",
    "    \"\"\"\n",
    "    Calculate the similarity of two statements.\n",
    "    This is based on the total maximum synset similarity between each word in each sentence.\n",
    "    This algorithm uses the `wordnet`_ functionality of `NLTK`_ to determine the similarity\n",
    "    of two statements based on the path similarity between each token of each statement.\n",
    "    This is essentially an evaluation of the closeness of synonyms.\n",
    "    :return: The percent of similarity between the closest synset distance.\n",
    "    :rtype: float\n",
    "    .. _wordnet: http://www.nltk.org/howto/wordnet.html\n",
    "    .. _NLTK: http://www.nltk.org/\n",
    "    \"\"\"\n",
    "    from nltk.corpus import wordnet\n",
    "    from nltk.corpus import stopwords\n",
    "    from nltk import word_tokenize\n",
    "    import itertools\n",
    "\n",
    "    tokens1 = list(set(word_tokenize(statement.lower())) - set(stopwords.words('english')))\n",
    "    tokens2 = list(set(word_tokenize(other_statement.lower())) - set(stopwords.words('english')))\n",
    "\n",
    "    # The maximum possible similarity is an exact match\n",
    "    # Because path_similarity returns a value between 0 and 1,\n",
    "    # max_possible_similarity is the number of words in the longer\n",
    "    # of the two input statements.\n",
    "    max_possible_similarity = max(\n",
    "        len(statement.split()),\n",
    "        len(other_statement.split())\n",
    "    )\n",
    "\n",
    "    max_similarity = 0.0\n",
    "\n",
    "    # Get the highest matching value for each possible combination of words\n",
    "    for combination in itertools.product(*[tokens1, tokens2]):\n",
    "\n",
    "        synset1 = wordnet.synsets(combination[0])\n",
    "        synset2 = wordnet.synsets(combination[1])\n",
    "\n",
    "        if synset1 and synset2:\n",
    "\n",
    "            # Get the highest similarity for each combination of synsets\n",
    "            for synset in itertools.product(*[synset1, synset2]):\n",
    "                similarity = synset[0].path_similarity(synset[1])\n",
    "\n",
    "                if similarity and (similarity > max_similarity):\n",
    "                    max_similarity = similarity\n",
    "\n",
    "    if max_possible_similarity == 0:\n",
    "        return 0\n",
    "\n",
    "    return max_similarity / max_possible_similarity\n",
    "\n",
    "def classify_intent(sentence):\n",
    "    tagged_words = nltk.pos_tag(word_tokenize(sentence))\n",
    "    num_tagged_cd = len([tag for word, tag in tagged_words if tag == 'CD'])\n",
    "    intent = None\n",
    "    if num_tagged_cd:\n",
    "        intent = 'compute'\n",
    "    else:\n",
    "        intent = 'converse'\n",
    "    return intent\n",
    "\n",
    "def answer(question):\n",
    "    \"\"\"Responds to the question asked\n",
    "    question: inputs a nlp statement\n",
    "    \n",
    "    Returns: a calculated value in response to the input statement\n",
    "    \"\"\"\n",
    "    sentences = sent_tokenize(question)\n",
    "    print(sentences)\n",
    "    results = []\n",
    "    mp = MathProcessor()\n",
    "    for sentence in sentences:\n",
    "        sentence = mp.transform_text(sentence)\n",
    "        intent = classify_intent(sentence)\n",
    "        print(\"intent\",intent)\n",
    "        if intent == 'compute':\n",
    "            rows = read_corpus('mathqa.corpus', extension=\"csv\")\n",
    "            cosine_scores = np.array([get_cosine_distance(sentence, data[0]) for data in rows])\n",
    "            matched_response = rows[np.argmax(cosine_scores)]\n",
    "            print(matched_response)\n",
    "            try:\n",
    "                tagged_sentence = ie_process(sentence)\n",
    "                chunked_sentence = chunk(tagged_sentence)\n",
    "                processed_chunk = process_chunk(chunked_sentence)\n",
    "                if len(set(['>', '<', '>=', '<=', '==', '!=']) & set(list(processed_chunk))) == 0:\n",
    "                    eval_result = str(postfix_calculate(infix2postfix(processed_chunk)))\n",
    "                else:\n",
    "                    eval_result = str(eval(processed_chunk))\n",
    "                print(matched_response)\n",
    "                results.append(matched_response[1].format(eval_result))\n",
    "            except:\n",
    "                results.append(matched_response[2])\n",
    "        else:\n",
    "            rows = read_corpus('conversations.corpus', extension=\"csv\")\n",
    "            cosine_scores = np.array([get_cosine_distance(sentence, data[0]) for data in rows])\n",
    "            matched_response = rows[np.argmax(cosine_scores)]\n",
    "            print(matched_response)\n",
    "            results.append(matched_response[1])\n",
    "    return results"
   ]
  },
  {
   "cell_type": "code",
   "execution_count": 21,
   "metadata": {
    "collapsed": false,
    "deletable": true,
    "editable": true
   },
   "outputs": [
    {
     "name": "stdout",
     "output_type": "stream",
     "text": [
      "['What do i get if I substract 3 from 2']\n",
      "intent compute\n",
      "['what is 24+55 divided by 2?', 'That computes to {0}', \"Pheww didn't work. Can I do something else fo you.\"]\n",
      "['What', 'do', 'i', 'get', 'if', 'I', 'substract', '3', 'from', '2']\n"
     ]
    },
    {
     "data": {
      "image/png": "[encoded data removed]",
      "text/plain": [
       "<IPython.core.display.Image object>"
      ]
     },
     "metadata": {},
     "output_type": "display_data"
    },
    {
     "name": "stdout",
     "output_type": "stream",
     "text": [
      "----------------------------------------------------\n",
      "\n",
      "[]\n",
      "----------------------------------------------------\n",
      "\n",
      "[]\n",
      "----------------------------------------------------\n",
      "\n",
      "[]\n",
      "----------------------------------------------------\n",
      "\n",
      "[]\n",
      "----------------------------------------------------\n",
      "\n",
      "[]\n",
      "----------------------------------------------------\n",
      "\n",
      "[]\n",
      "----------------------------------------------------\n",
      "\n",
      "[]\n",
      "----------------------------------------------------\n",
      "\n",
      "['3']\n",
      "----------------------------------------------------\n",
      "\n",
      "['3']\n",
      "----------------------------------------------------\n",
      "\n",
      "['3', '2']\n",
      "Printing expression\n",
      "32\n",
      "32\n",
      "['what is 24+55 divided by 2?', 'That computes to {0}', \"Pheww didn't work. Can I do something else fo you.\"]\n"
     ]
    },
    {
     "data": {
      "text/plain": [
       "['That computes to 32.0']"
      ]
     },
     "execution_count": 21,
     "metadata": {},
     "output_type": "execute_result"
    }
   ],
   "source": [
    "answer('What do i get if I substract 3 from 2')"
   ]
  },
  {
   "cell_type": "code",
   "execution_count": null,
   "metadata": {
    "collapsed": false,
    "deletable": true,
    "editable": true
   },
   "outputs": [],
   "source": [
    "dictionary = {'one': 1}\n",
    "if \"one\" in dictionary:\n",
    "    print(\"Hi\")"
   ]
  },
  {
   "cell_type": "code",
   "execution_count": null,
   "metadata": {
    "collapsed": false,
    "deletable": true,
    "editable": true
   },
   "outputs": [],
   "source": [
    "if isinstance([1,2,3], list):\n",
    "    print(\"Hello\")"
   ]
  },
  {
   "cell_type": "code",
   "execution_count": null,
   "metadata": {
    "collapsed": true,
    "deletable": true,
    "editable": true
   },
   "outputs": [],
   "source": []
  }
 ],
 "metadata": {
  "kernelspec": {
   "display_name": "Python 3",
   "language": "python",
   "name": "python3"
  },
  "language_info": {
   "codemirror_mode": {
    "name": "ipython",
    "version": 3
   },
   "file_extension": ".py",
   "mimetype": "text/x-python",
   "name": "python",
   "nbconvert_exporter": "python",
   "pygments_lexer": "ipython3",
   "version": "3.5.2"
  }
 },
 "nbformat": 4,
 "nbformat_minor": 2
}
